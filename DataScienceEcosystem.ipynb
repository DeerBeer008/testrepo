{
 "cells": [
  {
   "cell_type": "markdown",
   "id": "47f0382b-d511-4a6c-a4a8-48c14a2c2aaa",
   "metadata": {},
   "source": [
    "# Data Science Tools and Ecosystem"
   ]
  },
  {
   "cell_type": "markdown",
   "id": "c978bfdc-5499-45ab-80bb-0d4e94e66160",
   "metadata": {},
   "source": [
    "In this notebook, Data Science Tools and Ecosystems are summarised."
   ]
  },
  {
   "cell_type": "markdown",
   "id": "05f165bd-9598-42b6-8565-41ca291d8e36",
   "metadata": {},
   "source": [
    "**Objectives: To learn about**\n",
    "- Popular languages used in Datascience\n",
    "- Popular libraries used in Datascience\n",
    "- To use headings in markdown cells\n",
    "- Creating tables in markdown cells\n",
    "- popular Data Science tools and\n",
    "- To create ode cells with arithmatic expressions"
   ]
  },
  {
   "cell_type": "markdown",
   "id": "e94a0fb8-e20d-4c89-b5c0-ee7781547cdc",
   "metadata": {},
   "source": [
    "## Author\n",
    "My Name"
   ]
  },
  {
   "cell_type": "markdown",
   "id": "667c7c0f-a87a-4144-8d3d-aaf4bfd11fac",
   "metadata": {},
   "source": [
    "Some of the commonly used languages by data scientists include:\n",
    "- Python\n",
    "- R\n",
    "- SQL\n",
    "- Julia\n",
    "- Scala"
   ]
  },
  {
   "cell_type": "markdown",
   "id": "3a2e626e-9d90-40b9-b4b5-48940b874e56",
   "metadata": {},
   "source": [
    "Some of the commonly used libraries by Data Scientists are\n",
    "- Python : Pandas, TensorFlow, PuTorch, NumPy, Matplotlib, etc..\n",
    "- R : ggplot2, String, dplyr etc.."
   ]
  },
  {
   "cell_type": "markdown",
   "id": "fe880d8c-86fe-4da1-b999-b24c26084547",
   "metadata": {},
   "source": [
    "| Data Science Tools   |\n",
    "|----------------------|\n",
    "| 1.  Jupiter Lab      |\n",
    "|----------------------|\n",
    "| 2.  IBM Watson Studio|\n",
    "|----------------------|\n",
    "| 3.  Google Collab    |"
   ]
  },
  {
   "cell_type": "markdown",
   "id": "216680c6-86e9-43ee-85c9-e62bb9c35d7a",
   "metadata": {},
   "source": [
    "### Below are a few examples of evaluating arithmatic expressions in Python"
   ]
  },
  {
   "cell_type": "code",
   "execution_count": 3,
   "id": "c5aa6fc0-2672-4f63-9712-43af70464090",
   "metadata": {
    "tags": []
   },
   "outputs": [
    {
     "data": {
      "text/plain": [
       "17"
      ]
     },
     "execution_count": 3,
     "metadata": {},
     "output_type": "execute_result"
    }
   ],
   "source": [
    "#This is a simple arithmatic expression to multiply then add integers.\n",
    "(3*4)+5"
   ]
  },
  {
   "cell_type": "code",
   "execution_count": 14,
   "id": "0a3529e7-7bc9-4f47-8505-63e8418e38bd",
   "metadata": {
    "tags": []
   },
   "outputs": [
    {
     "data": {
      "text/plain": [
       "3.3333333333333335"
      ]
     },
     "execution_count": 14,
     "metadata": {},
     "output_type": "execute_result"
    }
   ],
   "source": [
    "minutes = 200\n",
    "\n",
    "#This willconvert 200 minutes to hours\n",
    "\n",
    "minutes / 60"
   ]
  },
  {
   "cell_type": "code",
   "execution_count": null,
   "id": "4554417d-ba4e-4931-be30-bd7d386380f6",
   "metadata": {},
   "outputs": [],
   "source": []
  }
 ],
 "metadata": {
  "kernelspec": {
   "display_name": "Python",
   "language": "python",
   "name": "conda-env-python-py"
  },
  "language_info": {
   "codemirror_mode": {
    "name": "ipython",
    "version": 3
   },
   "file_extension": ".py",
   "mimetype": "text/x-python",
   "name": "python",
   "nbconvert_exporter": "python",
   "pygments_lexer": "ipython3",
   "version": "3.7.12"
  }
 },
 "nbformat": 4,
 "nbformat_minor": 5
}
